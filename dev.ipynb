{
 "metadata": {
  "language_info": {
   "codemirror_mode": {
    "name": "ipython",
    "version": 3
   },
   "file_extension": ".py",
   "mimetype": "text/x-python",
   "name": "python",
   "nbconvert_exporter": "python",
   "pygments_lexer": "ipython3",
   "version": "3.7.7-final"
  },
  "orig_nbformat": 2,
  "kernelspec": {
   "name": "Python 3.7.7 64-bit",
   "display_name": "Python 3.7.7 64-bit",
   "metadata": {
    "interpreter": {
     "hash": "42d7b6d18a47956550b419b532d3d9d25cb62363c6b268dbf084aa94173ab148"
    }
   }
  }
 },
 "nbformat": 4,
 "nbformat_minor": 2,
 "cells": [
  {
   "cell_type": "code",
   "execution_count": 68,
   "metadata": {
    "tags": []
   },
   "outputs": [
    {
     "output_type": "stream",
     "name": "stdout",
     "text": "0\n0\n0\n0\n0\n0\n"
    }
   ],
   "source": [
    "\n",
    "googlenews=GoogleNews(start='1/15/2020', end='1/15/2020')\n",
    "googlenews.search('TSLA')\n",
    "for i in range(0,6):\n",
    "    googlenews.getpage(i)\n",
    "    result=googlenews.result()\n",
    "    print(len(result))\n",
    "\n",
    "links = [x['link'] for x in result]\n",
    "unique_links = list(set(links))"
   ]
  },
  {
   "cell_type": "code",
   "execution_count": 69,
   "metadata": {},
   "outputs": [
    {
     "output_type": "execute_result",
     "data": {
      "text/plain": "0"
     },
     "metadata": {},
     "execution_count": 69
    }
   ],
   "source": [
    "len(unique_links)"
   ]
  },
  {
   "cell_type": "code",
   "execution_count": 67,
   "metadata": {},
   "outputs": [
    {
     "output_type": "execute_result",
     "data": {
      "text/plain": "['https://www.ccn.com/not-even-porsche-why-electric-carmakers-admit-tesla-king/',\n 'https://seekingalpha.com/article/4373962-tesla-battery-day-will-be-critical-for-energy-division-well-for-vehicles',\n 'https://www.nasdaq.com/articles/pre-market-most-active-for-sep-10-2020-%3A-tsla-aapl-nkla-nio-sqqq-stsa-qqq-baba-nok-work',\n 'https://www.campaignasia.com/article/kfc-appoints-tsla-in-singapore/463604',\n 'https://www.nasdaq.com/articles/pre-market-most-active-for-sep-18-2020-%3A-kodk-pic-aapl-tsla-nio-wmb-ge-qqq-play-ccl-sqqq',\n 'https://www.cnn.com/2020/09/13/business/elon-musk-bill-gates-twitter-electric-trucks-tesla/index.html',\n 'https://finance.yahoo.com/news/zacks-analyst-blog-highlights-tsla-170105191.html',\n 'https://www.bloomberg.com/news/articles/2020-09-18/six-giant-tesla-batteries-used-to-keep-lights-on-in-britain',\n 'https://cryptoticker.io/en/tesla-poised-for-a-bounce-towards-520-analyst-bitcoins-bubble/',\n 'https://electrek.co/2020/09/15/tesla-tsla-rises-app-downloads-delivery-beat-analyst/',\n 'https://cleantechnica.com/2020/09/21/teslas-pillar-of-growth-for-the-next-20-years-%F0%9F%94%8B/',\n 'https://www.bloomberg.com/news/articles/2020-09-25/denmark-s-green-plan-could-raise-tesla-prices-by-nearly-a-third',\n 'https://www.fool.com.au/2020/09/21/asx-shares-tesla-nasdaqtsla-needs-to-survive/',\n 'https://www.teslarati.com/tesla-tsla-selloff-investment-manager-will-danoff/',\n 'https://stocknews.com/news/tsla-plug-wkhs-3-stocks-to-electrify-your-portfolios-returns/',\n 'https://www.teslarati.com/tesla-tsla-battery-day-master-plan-part-3-increased-price-targets/',\n 'https://www.marketwatch.com/story/here-are-two-stocks-that-stand-to-benefit-from-californias-electric-vehicle-push-2020-09-24',\n 'https://www.fool.com.au/2020/09/17/leading-fund-managers-name-tesla-nasdaq-tsla-and-these-shares-as-buys/',\n 'https://www.streetinsider.com/Analyst+Comments/RBC+Capital+Reiterates+Underperform+Rating+on+Tesla+%28TSLA%29+Following+Battery+Day/17386588.html',\n 'https://newsdaemon.com/2020/09/22/tesla-inc-tsla-went-up-1-64-yesterday-is-this-the-most-sought-after-stock-today/',\n 'https://www.fool.com.au/2020/09/15/why-the-tesla-nasdaqtsla-share-price-zoomed-12-5-higher/',\n 'https://www.teslarati.com/tesla-tsla-ubs-325-price-target/',\n 'https://www.fool.com/investing/2020/09/12/elon-musk-tesla-is-about-to-unveil-many-exciting-t/',\n 'https://cointelegraph.com/news/tesla-stock-tsla-chart-resembles-bitcoin-bubble-in-2017-says-analyst',\n 'https://www.gurufocus.com/news/1237647/tesla-inc-tsla-cfo-zachary-kirkhorn-sold-520188-of-shares',\n 'https://www.teslarati.com/tesla-tsla-goldman-sachs-100-million-gain/',\n 'https://www.fool.com/taxes/2020/09/11/did-you-sell-apple-tesla-or-other-tech-stocks-for/',\n 'https://www.nasdaq.com/articles/tesla-tsla-gains-as-market-dips%3A-what-you-should-know-2020-09-10',\n 'https://banyanhill.com/aapl-stock-out-and-tsla-in-america-2-0-index/',\n 'https://cleantechnica.com/2020/09/11/tesla-tsla-things-i-think-i-think-overall-market/',\n 'https://electrek.co/2020/09/24/tesla-tsla-claims-nikola-nkla-stole-truck-design-rimac-designer/',\n 'https://www.fool.com/investing/2020/09/20/where-will-electric-vehicles-be-in-5-years/',\n 'https://finance.yahoo.com/news/tesla-tsla-dips-more-broader-214509111.html',\n 'https://cleantechnica.com/2020/09/14/elon-musk-tells-cleantechnica-why-tesla-solar-is-so-cheap-cleantechnica-top-20/',\n 'https://stocknews.com/news/tsla-rio-alb-sqm-lac-4-stocks-that-could-be-turbocharged-by-teslas-battery-day/',\n 'https://seekingalpha.com/article/4376339-tesla-forget-inclusion-in-s-and-p-500',\n 'https://www.teslarati.com/tesla-tsla-bear-dont-short-stock/',\n 'https://finance.yahoo.com/news/tesla-tsla-outpaces-stock-market-214509620.html',\n 'https://www.investopedia.com/tesla-tsla-falls-as-analysts-digest-battery-day-5079131',\n 'https://www.teslarati.com/tesla-tsla-ark-battery-day-shares-purchased/',\n 'https://www.benzinga.com/tech/20/09/17492558/tesla-self-driving-software-rewrite-should-be-available-by-end-of-2020-musk',\n 'https://finance.yahoo.com/news/dgx-nkla-nke-tsla-zacks-165904337.html',\n 'https://finance.yahoo.com/news/pcar-tsla-better-value-stock-154003005.html',\n 'https://www.bloomberg.com/news/articles/2020-09-22/tesla-posts-new-job-ads-signaling-entry-to-singapore',\n 'https://www.teslarati.com/tesla-tsla-tech-comback-surge-goldman-sachs/',\n 'https://www.fool.com/investing/2020/09/21/why-tesla-stock-fell-79-this-morning/',\n 'https://stansberryresearch.com/articles/u-s-midday-stock-moves-cvna-gme-bpmc-nnox-tsla-2/',\n 'https://www.thestreet.com/tesla/news/piper-sandler-raises-tsla-price-target-to-515',\n 'https://www.bloomberg.com/news/articles/2020-09-11/tesla-plans-to-start-shipping-china-built-cars-to-europe-asia',\n 'https://finance.yahoo.com/news/tesla-tsla-risen-823-last-160943958.html']"
     },
     "metadata": {},
     "execution_count": 67
    }
   ],
   "source": [
    "unique_links"
   ]
  },
  {
   "cell_type": "code",
   "execution_count": null,
   "metadata": {},
   "outputs": [],
   "source": []
  }
 ]
}